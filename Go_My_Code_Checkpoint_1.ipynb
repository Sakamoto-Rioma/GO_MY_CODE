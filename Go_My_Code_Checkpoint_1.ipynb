{
 "cells": [
  {
   "cell_type": "code",
   "execution_count": 26,
   "metadata": {},
   "outputs": [
    {
     "name": "stdout",
     "output_type": "stream",
     "text": [
      "2002 2009 2016 2023 2037 2044 2051 2058 2072 2079 2086 2093 2107 2114 2121 2128 2142 2149 2156 2163 2177 2184 2191 2198 2212 2219 2226 2233 2247 2254 2261 2268 2282 2289 2296 2303 2317 2324 2331 2338 2352 2359 2366 2373 2387 2394 2401 2408 2422 2429 2436 2443 2457 2464 2471 2478 2492 2499 2506 2513 2527 2534 2541 2548 2562 2569 2576 2583 2597 2604 2611 2618 2632 2639 2646 2653 2667 2674 2681 2688 2702 2709 2716 2723 2737 2744 2751 2758 2772 2779 2786 2793 2807 2814 2821 2828 2842 2849 2856 2863 2877 2884 2891 2898 2912 2919 2926 2933 2947 2954 2961 2968 2982 2989 2996 3003 3017 3024 3031 3038 3052 3059 3066 3073 3087 3094 3101 3108 3122 3129 3136 3143 3157 3164 3171 3178 3192 3199 "
     ]
    }
   ],
   "source": [
    "#Question1 : Write a program which will find all such numbers which are divisible by 7 but are not a multiple of 5,\n",
    "#between 2000 and 3200 (both included). The numbers obtained should be printed in a sequence on a single line.\n",
    "\n",
    "\n",
    "for i in range(2000,3201):\n",
    "    if (i%7)==0 and (i%5)!=0:\n",
    "        print(i, end=' ')\n",
    "        \n",
    "        \n",
    "\n"
   ]
  },
  {
   "cell_type": "code",
   "execution_count": 27,
   "metadata": {},
   "outputs": [
    {
     "name": "stdout",
     "output_type": "stream",
     "text": [
      "enter a given number: 8\n",
      "40320\n"
     ]
    }
   ],
   "source": [
    "#Question 2 Question: Write a program which can compute the factorial of a given numbers. The results should be printed in a sequence on a single line. Suppose the following input is supplied to the program: 8 Then, the output should be: 40320 \n",
    "\n",
    "#Hints: In case of input data being supplied to the question, it should be assumed to be a console input. \n",
    "\n",
    "n= int(input('enter a given number: '))\n",
    "f=1\n",
    "\n",
    "if n!=0:\n",
    "    for i in range(1,n+1):\n",
    "        f=f*i\n",
    "    print(f)\n",
    "        \n",
    "else:\n",
    "    print(f)\n",
    "\n",
    "   "
   ]
  },
  {
   "cell_type": "code",
   "execution_count": 28,
   "metadata": {},
   "outputs": [
    {
     "name": "stdout",
     "output_type": "stream",
     "text": [
      "enter a given number: 8\n",
      "{1: 1, 2: 4, 3: 9, 4: 16, 5: 25, 6: 36, 7: 49, 8: 64}\n"
     ]
    }
   ],
   "source": [
    "#Question 3 \n",
    "\n",
    "#Question: With a given integral number n, write a program to generate a dictionary that contains (i, i*i) \n",
    "#such that is an integral number between 1 and n (both included). and then the program should print the dictionary. \n",
    "#Suppose the following input is supplied to the program: 8 Then, the output should be: {1: 1, 2: 4, 3: 9, 4: 16, 5: 25, 6: 36, 7: 49, 8: 64} \n",
    "\n",
    "n = int(input('enter a given number: '))\n",
    "dict = {1:1}\n",
    "for i in range (1,n+1):\n",
    "    dict[i]= i*i\n",
    "print(dict)\n",
    "      \n",
    "    "
   ]
  },
  {
   "cell_type": "code",
   "execution_count": 1,
   "metadata": {},
   "outputs": [
    {
     "name": "stdout",
     "output_type": "stream",
     "text": [
      "Enter a given word: fgfdgd\n",
      "Enter a given number: 5\n",
      "fgfdg\n"
     ]
    }
   ],
   "source": [
    "#Question 4 \n",
    "\n",
    "#Given a non-empty string and an int n, return a new string where the char at index n has been removed. \n",
    "#The value of n will be a valid index of a char in the original string (i.e. n will be in the range 0..len(str)-1 inclusive). \n",
    "\n",
    "#missing_char('kitten', 1) → 'ktten' \n",
    "#missing_char('kitten', 0) → 'itten' \n",
    "#missing_char('kitten', 4) → 'kittn' \n",
    "\n",
    "s = input('Enter a given word: ')\n",
    "n = int(input('Enter a given number: '))\n",
    "s = s[:n] + s[(n+1):]\n",
    "print(s)\n",
    "\n"
   ]
  },
  {
   "cell_type": "code",
   "execution_count": 37,
   "metadata": {},
   "outputs": [
    {
     "name": "stdout",
     "output_type": "stream",
     "text": [
      "[[0 1]\n",
      " [2 3]\n",
      " [4 5]]\n",
      "[[0, 1], [2, 3], [4, 5]]\n"
     ]
    }
   ],
   "source": [
    "#Question 5 \n",
    "\n",
    "#Write a NumPy program to convert a NumPy array into a Python list structure.\n",
    "\n",
    "#Expected Output: \n",
    "\n",
    "#Original array elements: [[0 1] [2 3] [4 5]] \n",
    "\n",
    "#Array to list: [[0, 1], [2, 3], [4, 5]] \n",
    "\n",
    "import numpy as np\n",
    "\n",
    "arr = np.array([[0,1], [2,3], [4,5]])\n",
    "\n",
    "print(arr)\n",
    "list = arr.tolist()\n",
    "print(list)\n"
   ]
  },
  {
   "cell_type": "code",
   "execution_count": 44,
   "metadata": {},
   "outputs": [
    {
     "name": "stdout",
     "output_type": "stream",
     "text": [
      "[[ 1. -1.]\n",
      " [-1.  1.]]\n"
     ]
    }
   ],
   "source": [
    "#Question 6\n",
    "\n",
    "#Write a NumPy program to compute the covariance matrix of two given arrays. \n",
    "\n",
    "#Original array1: [0 1 2] \n",
    "\n",
    "#Original array2: [2 1 0] \n",
    "\n",
    "#Covariance matrix of the said arrays: [[ 1. -1.] [-1. 1.]]\n",
    "import numpy as np\n",
    "array1 = np.array([0,1,2])\n",
    "array2 = np.array([2,1,0])\n",
    "print(np.cov(array1,array2))\n"
   ]
  },
  {
   "cell_type": "code",
   "execution_count": 25,
   "metadata": {
    "scrolled": true
   },
   "outputs": [
    {
     "name": "stdout",
     "output_type": "stream",
     "text": [
      "[18, 22, 24]\n"
     ]
    }
   ],
   "source": [
    "#Question 7\n",
    "\n",
    "#Question: Write a program that calculates and prints the value according to the given formula: \n",
    "#Q = Square root of [(2 * C * D)/H] Following are the fixed values of C and H: C is 50. H is 30. \n",
    "#D is the variable whose values should be input to your program in a comma-separated sequence. \n",
    "#Example Let us assume the following comma separated input sequence is given to the program:\n",
    "#100,150,180 The output of the program should be: 18,22,24 \n",
    "\n",
    "import numpy as np\n",
    "import math as m\n",
    "c = 50\n",
    "h = 30\n",
    "d = [100,150,180]\n",
    "output=[]\n",
    "\n",
    "for i in d:\n",
    "    value=round(m.sqrt(2*c*i/h))\n",
    "    output.append(value)            \n",
    "print(output)\n"
   ]
  },
  {
   "cell_type": "code",
   "execution_count": null,
   "metadata": {},
   "outputs": [],
   "source": []
  }
 ],
 "metadata": {
  "kernelspec": {
   "display_name": "Python 3",
   "language": "python",
   "name": "python3"
  },
  "language_info": {
   "codemirror_mode": {
    "name": "ipython",
    "version": 3
   },
   "file_extension": ".py",
   "mimetype": "text/x-python",
   "name": "python",
   "nbconvert_exporter": "python",
   "pygments_lexer": "ipython3",
   "version": "3.7.6"
  }
 },
 "nbformat": 4,
 "nbformat_minor": 4
}
